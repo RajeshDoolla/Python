{
 "cells": [
  {
   "cell_type": "markdown",
   "metadata": {},
   "source": [
    "## Array vs Lists"
   ]
  },
  {
   "cell_type": "code",
   "execution_count": 1,
   "metadata": {},
   "outputs": [],
   "source": [
    "import numpy as np"
   ]
  },
  {
   "cell_type": "code",
   "execution_count": 2,
   "metadata": {},
   "outputs": [],
   "source": [
    "l=[1,2,3]"
   ]
  },
  {
   "cell_type": "code",
   "execution_count": 3,
   "metadata": {},
   "outputs": [
    {
     "data": {
      "text/plain": [
       "array([1, 2, 3])"
      ]
     },
     "execution_count": 3,
     "metadata": {},
     "output_type": "execute_result"
    }
   ],
   "source": [
    "A=np.array(l)\n",
    "A"
   ]
  },
  {
   "cell_type": "code",
   "execution_count": 4,
   "metadata": {},
   "outputs": [
    {
     "name": "stdout",
     "output_type": "stream",
     "text": [
      "1\n",
      "2\n",
      "3\n"
     ]
    }
   ],
   "source": [
    "for e in l:\n",
    "    print(e)"
   ]
  },
  {
   "cell_type": "code",
   "execution_count": 5,
   "metadata": {},
   "outputs": [
    {
     "name": "stdout",
     "output_type": "stream",
     "text": [
      "1\n",
      "2\n",
      "3\n"
     ]
    }
   ],
   "source": [
    "for e in A:\n",
    "    print(e)"
   ]
  },
  {
   "cell_type": "code",
   "execution_count": 7,
   "metadata": {},
   "outputs": [],
   "source": [
    "l.append(4)"
   ]
  },
  {
   "cell_type": "code",
   "execution_count": 8,
   "metadata": {},
   "outputs": [
    {
     "data": {
      "text/plain": [
       "[1, 2, 3, 4]"
      ]
     },
     "execution_count": 8,
     "metadata": {},
     "output_type": "execute_result"
    }
   ],
   "source": [
    "l"
   ]
  },
  {
   "cell_type": "code",
   "execution_count": 9,
   "metadata": {},
   "outputs": [
    {
     "data": {
      "text/plain": [
       "[1, 2, 3, 4, 5]"
      ]
     },
     "execution_count": 9,
     "metadata": {},
     "output_type": "execute_result"
    }
   ],
   "source": [
    "l+[5]"
   ]
  },
  {
   "cell_type": "markdown",
   "metadata": {},
   "source": [
    "## Broadcasting"
   ]
  },
  {
   "cell_type": "code",
   "execution_count": 11,
   "metadata": {},
   "outputs": [
    {
     "data": {
      "text/plain": [
       "array([5, 6, 7])"
      ]
     },
     "execution_count": 11,
     "metadata": {},
     "output_type": "execute_result"
    }
   ],
   "source": [
    "A+np.array([4])"
   ]
  },
  {
   "cell_type": "code",
   "execution_count": 12,
   "metadata": {},
   "outputs": [
    {
     "data": {
      "text/plain": [
       "array([ 6,  9, 11])"
      ]
     },
     "execution_count": 12,
     "metadata": {},
     "output_type": "execute_result"
    }
   ],
   "source": [
    "A+np.array([5,7,8])"
   ]
  },
  {
   "cell_type": "code",
   "execution_count": 13,
   "metadata": {},
   "outputs": [
    {
     "ename": "ValueError",
     "evalue": "operands could not be broadcast together with shapes (3,) (2,) ",
     "output_type": "error",
     "traceback": [
      "\u001b[1;31m---------------------------------------------------------------------------\u001b[0m",
      "\u001b[1;31mValueError\u001b[0m                                Traceback (most recent call last)",
      "\u001b[1;32m<ipython-input-13-3f78e3c16587>\u001b[0m in \u001b[0;36m<module>\u001b[1;34m()\u001b[0m\n\u001b[1;32m----> 1\u001b[1;33m \u001b[0mA\u001b[0m\u001b[1;33m+\u001b[0m\u001b[0mnp\u001b[0m\u001b[1;33m.\u001b[0m\u001b[0marray\u001b[0m\u001b[1;33m(\u001b[0m\u001b[1;33m[\u001b[0m\u001b[1;36m4\u001b[0m\u001b[1;33m,\u001b[0m\u001b[1;36m3\u001b[0m\u001b[1;33m]\u001b[0m\u001b[1;33m)\u001b[0m\u001b[1;33m\u001b[0m\u001b[0m\n\u001b[0m",
      "\u001b[1;31mValueError\u001b[0m: operands could not be broadcast together with shapes (3,) (2,) "
     ]
    }
   ],
   "source": [
    "A+np.array([4,3]) # sizes are different"
   ]
  },
  {
   "cell_type": "code",
   "execution_count": 14,
   "metadata": {},
   "outputs": [
    {
     "data": {
      "text/plain": [
       "array([2, 4, 6])"
      ]
     },
     "execution_count": 14,
     "metadata": {},
     "output_type": "execute_result"
    }
   ],
   "source": [
    "2*A"
   ]
  },
  {
   "cell_type": "code",
   "execution_count": 15,
   "metadata": {},
   "outputs": [
    {
     "data": {
      "text/plain": [
       "[1, 2, 3, 4, 1, 2, 3, 4]"
      ]
     },
     "execution_count": 15,
     "metadata": {},
     "output_type": "execute_result"
    }
   ],
   "source": [
    "2*l"
   ]
  },
  {
   "cell_type": "code",
   "execution_count": 16,
   "metadata": {},
   "outputs": [
    {
     "data": {
      "text/plain": [
       "[1, 2, 3, 4, 1, 2, 3, 4]"
      ]
     },
     "execution_count": 16,
     "metadata": {},
     "output_type": "execute_result"
    }
   ],
   "source": [
    "l+l"
   ]
  },
  {
   "cell_type": "code",
   "execution_count": 17,
   "metadata": {},
   "outputs": [
    {
     "data": {
      "text/plain": [
       "[4, 5, 6, 7]"
      ]
     },
     "execution_count": 17,
     "metadata": {},
     "output_type": "execute_result"
    }
   ],
   "source": [
    "l2=[]\n",
    "for e in l:\n",
    "    l2.append(e+3)\n",
    "    \n",
    "l2"
   ]
  },
  {
   "cell_type": "code",
   "execution_count": 19,
   "metadata": {},
   "outputs": [
    {
     "data": {
      "text/plain": [
       "[4, 5, 6, 7]"
      ]
     },
     "execution_count": 19,
     "metadata": {},
     "output_type": "execute_result"
    }
   ],
   "source": [
    "l2=[e+3 for e in l]\n",
    "l2"
   ]
  },
  {
   "cell_type": "code",
   "execution_count": 20,
   "metadata": {},
   "outputs": [
    {
     "ename": "TypeError",
     "evalue": "unsupported operand type(s) for ** or pow(): 'list' and 'int'",
     "output_type": "error",
     "traceback": [
      "\u001b[1;31m---------------------------------------------------------------------------\u001b[0m",
      "\u001b[1;31mTypeError\u001b[0m                                 Traceback (most recent call last)",
      "\u001b[1;32m<ipython-input-20-c658a3e7cb37>\u001b[0m in \u001b[0;36m<module>\u001b[1;34m()\u001b[0m\n\u001b[1;32m----> 1\u001b[1;33m \u001b[0ml\u001b[0m\u001b[1;33m**\u001b[0m\u001b[1;36m2\u001b[0m\u001b[1;33m\u001b[0m\u001b[0m\n\u001b[0m",
      "\u001b[1;31mTypeError\u001b[0m: unsupported operand type(s) for ** or pow(): 'list' and 'int'"
     ]
    }
   ],
   "source": [
    "l**2 # power doesnt support l2"
   ]
  },
  {
   "cell_type": "code",
   "execution_count": 21,
   "metadata": {},
   "outputs": [
    {
     "data": {
      "text/plain": [
       "[1, 4, 9, 16]"
      ]
     },
     "execution_count": 21,
     "metadata": {},
     "output_type": "execute_result"
    }
   ],
   "source": [
    "l2=[]\n",
    "for e in l:\n",
    "    l2.append(e**2)\n",
    "\n",
    "l2"
   ]
  },
  {
   "cell_type": "code",
   "execution_count": 22,
   "metadata": {},
   "outputs": [
    {
     "data": {
      "text/plain": [
       "array([1, 4, 9], dtype=int32)"
      ]
     },
     "execution_count": 22,
     "metadata": {},
     "output_type": "execute_result"
    }
   ],
   "source": [
    "A**2# if we have a array it works perfectly fine"
   ]
  },
  {
   "cell_type": "code",
   "execution_count": 23,
   "metadata": {},
   "outputs": [
    {
     "data": {
      "text/plain": [
       "array([0.        , 0.69314718, 1.09861229])"
      ]
     },
     "execution_count": 23,
     "metadata": {},
     "output_type": "execute_result"
    }
   ],
   "source": [
    "np.log(A)"
   ]
  },
  {
   "cell_type": "code",
   "execution_count": 24,
   "metadata": {},
   "outputs": [
    {
     "data": {
      "text/plain": [
       "6"
      ]
     },
     "execution_count": 24,
     "metadata": {},
     "output_type": "execute_result"
    }
   ],
   "source": [
    "np.sum(A)"
   ]
  },
  {
   "cell_type": "code",
   "execution_count": 25,
   "metadata": {},
   "outputs": [
    {
     "data": {
      "text/plain": [
       "array([1.        , 1.41421356, 1.73205081])"
      ]
     },
     "execution_count": 25,
     "metadata": {},
     "output_type": "execute_result"
    }
   ],
   "source": [
    "np.sqrt(A)"
   ]
  },
  {
   "cell_type": "code",
   "execution_count": 26,
   "metadata": {},
   "outputs": [
    {
     "data": {
      "text/plain": [
       "array([ 2.71828183,  7.3890561 , 20.08553692])"
      ]
     },
     "execution_count": 26,
     "metadata": {},
     "output_type": "execute_result"
    }
   ],
   "source": [
    "np.exp(A)"
   ]
  },
  {
   "cell_type": "code",
   "execution_count": 27,
   "metadata": {},
   "outputs": [
    {
     "data": {
      "text/plain": [
       "array([0.76159416, 0.96402758, 0.99505475])"
      ]
     },
     "execution_count": 27,
     "metadata": {},
     "output_type": "execute_result"
    }
   ],
   "source": [
    "np.tanh(A)"
   ]
  },
  {
   "cell_type": "markdown",
   "metadata": {},
   "source": [
    "## DOT product"
   ]
  },
  {
   "cell_type": "code",
   "execution_count": 28,
   "metadata": {},
   "outputs": [],
   "source": [
    "a=np.array([1,2])\n",
    "b=np.array([3,4])"
   ]
  },
  {
   "cell_type": "code",
   "execution_count": 33,
   "metadata": {},
   "outputs": [],
   "source": [
    "dot=0\n",
    "for e, f in zip(a,b):\n",
    "    dot+=e+f"
   ]
  },
  {
   "cell_type": "code",
   "execution_count": 34,
   "metadata": {},
   "outputs": [
    {
     "data": {
      "text/plain": [
       "10"
      ]
     },
     "execution_count": 34,
     "metadata": {},
     "output_type": "execute_result"
    }
   ],
   "source": [
    "dot"
   ]
  },
  {
   "cell_type": "code",
   "execution_count": 36,
   "metadata": {},
   "outputs": [
    {
     "data": {
      "text/plain": [
       "11"
      ]
     },
     "execution_count": 36,
     "metadata": {},
     "output_type": "execute_result"
    }
   ],
   "source": [
    "dot=0\n",
    "for i in range(len(a)):\n",
    "    dot+=a[i]*b[i]\n",
    "dot"
   ]
  },
  {
   "cell_type": "code",
   "execution_count": 38,
   "metadata": {},
   "outputs": [
    {
     "data": {
      "text/plain": [
       "array([3, 8])"
      ]
     },
     "execution_count": 38,
     "metadata": {},
     "output_type": "execute_result"
    }
   ],
   "source": [
    "a*b#element wise multiplication"
   ]
  },
  {
   "cell_type": "code",
   "execution_count": 39,
   "metadata": {},
   "outputs": [
    {
     "data": {
      "text/plain": [
       "11"
      ]
     },
     "execution_count": 39,
     "metadata": {},
     "output_type": "execute_result"
    }
   ],
   "source": [
    "np.sum(a*b)"
   ]
  },
  {
   "cell_type": "code",
   "execution_count": 40,
   "metadata": {},
   "outputs": [
    {
     "data": {
      "text/plain": [
       "array([ 7, 14])"
      ]
     },
     "execution_count": 40,
     "metadata": {},
     "output_type": "execute_result"
    }
   ],
   "source": [
    "a*b.sum()"
   ]
  },
  {
   "cell_type": "code",
   "execution_count": 41,
   "metadata": {},
   "outputs": [
    {
     "data": {
      "text/plain": [
       "11"
      ]
     },
     "execution_count": 41,
     "metadata": {},
     "output_type": "execute_result"
    }
   ],
   "source": [
    "np.dot(a,b)"
   ]
  },
  {
   "cell_type": "code",
   "execution_count": 42,
   "metadata": {},
   "outputs": [
    {
     "data": {
      "text/plain": [
       "11"
      ]
     },
     "execution_count": 42,
     "metadata": {},
     "output_type": "execute_result"
    }
   ],
   "source": [
    "a.dot(b)"
   ]
  },
  {
   "cell_type": "code",
   "execution_count": 44,
   "metadata": {},
   "outputs": [
    {
     "data": {
      "text/plain": [
       "11"
      ]
     },
     "execution_count": 44,
     "metadata": {},
     "output_type": "execute_result"
    }
   ],
   "source": [
    "a @ b# the symbol is for the dot product"
   ]
  },
  {
   "cell_type": "markdown",
   "metadata": {},
   "source": [
    "## Dot Product"
   ]
  },
  {
   "cell_type": "code",
   "execution_count": 45,
   "metadata": {},
   "outputs": [],
   "source": [
    "amag=np.sqrt((a*a).sum())"
   ]
  },
  {
   "cell_type": "code",
   "execution_count": 46,
   "metadata": {},
   "outputs": [
    {
     "data": {
      "text/plain": [
       "2.23606797749979"
      ]
     },
     "execution_count": 46,
     "metadata": {},
     "output_type": "execute_result"
    }
   ],
   "source": [
    "amag"
   ]
  },
  {
   "cell_type": "code",
   "execution_count": 48,
   "metadata": {},
   "outputs": [
    {
     "data": {
      "text/plain": [
       "2.23606797749979"
      ]
     },
     "execution_count": 48,
     "metadata": {},
     "output_type": "execute_result"
    }
   ],
   "source": [
    "np.linalg.norm(a)"
   ]
  },
  {
   "cell_type": "code",
   "execution_count": 49,
   "metadata": {},
   "outputs": [],
   "source": [
    "cosangle=a.dot(b)/(np.linalg.norm(a)*np.linalg.norm(b))"
   ]
  },
  {
   "cell_type": "code",
   "execution_count": 50,
   "metadata": {},
   "outputs": [
    {
     "data": {
      "text/plain": [
       "0.9838699100999074"
      ]
     },
     "execution_count": 50,
     "metadata": {},
     "output_type": "execute_result"
    }
   ],
   "source": [
    "cosangle"
   ]
  },
  {
   "cell_type": "code",
   "execution_count": 53,
   "metadata": {},
   "outputs": [
    {
     "data": {
      "text/plain": [
       "0.17985349979247847"
      ]
     },
     "execution_count": 53,
     "metadata": {},
     "output_type": "execute_result"
    }
   ],
   "source": [
    "angle=np.arccos(cosangle)\n",
    "angle # in radians"
   ]
  },
  {
   "cell_type": "markdown",
   "metadata": {},
   "source": [
    "## Metrices:"
   ]
  },
  {
   "cell_type": "code",
   "execution_count": 54,
   "metadata": {},
   "outputs": [
    {
     "data": {
      "text/plain": [
       "[[1, 2], [3, 4]]"
      ]
     },
     "execution_count": 54,
     "metadata": {},
     "output_type": "execute_result"
    }
   ],
   "source": [
    "L=[[1,2],[3,4]]\n",
    "L"
   ]
  },
  {
   "cell_type": "code",
   "execution_count": 55,
   "metadata": {},
   "outputs": [
    {
     "data": {
      "text/plain": [
       "[1, 2]"
      ]
     },
     "execution_count": 55,
     "metadata": {},
     "output_type": "execute_result"
    }
   ],
   "source": [
    "L[0]"
   ]
  },
  {
   "cell_type": "code",
   "execution_count": 56,
   "metadata": {},
   "outputs": [
    {
     "data": {
      "text/plain": [
       "[3, 4]"
      ]
     },
     "execution_count": 56,
     "metadata": {},
     "output_type": "execute_result"
    }
   ],
   "source": [
    "L[1]"
   ]
  },
  {
   "cell_type": "code",
   "execution_count": 58,
   "metadata": {},
   "outputs": [
    {
     "data": {
      "text/plain": [
       "2"
      ]
     },
     "execution_count": 58,
     "metadata": {},
     "output_type": "execute_result"
    }
   ],
   "source": [
    "L[0][1]"
   ]
  },
  {
   "cell_type": "code",
   "execution_count": 59,
   "metadata": {},
   "outputs": [],
   "source": [
    "A=np.array([[1,2],[3,4]])"
   ]
  },
  {
   "cell_type": "code",
   "execution_count": 60,
   "metadata": {},
   "outputs": [
    {
     "data": {
      "text/plain": [
       "array([[1, 2],\n",
       "       [3, 4]])"
      ]
     },
     "execution_count": 60,
     "metadata": {},
     "output_type": "execute_result"
    }
   ],
   "source": [
    "A"
   ]
  },
  {
   "cell_type": "code",
   "execution_count": 61,
   "metadata": {},
   "outputs": [
    {
     "data": {
      "text/plain": [
       "2"
      ]
     },
     "execution_count": 61,
     "metadata": {},
     "output_type": "execute_result"
    }
   ],
   "source": [
    "A[0][1]"
   ]
  },
  {
   "cell_type": "code",
   "execution_count": 62,
   "metadata": {},
   "outputs": [
    {
     "data": {
      "text/plain": [
       "2"
      ]
     },
     "execution_count": 62,
     "metadata": {},
     "output_type": "execute_result"
    }
   ],
   "source": [
    "A[0,1]#otherwise to notate"
   ]
  },
  {
   "cell_type": "code",
   "execution_count": 63,
   "metadata": {},
   "outputs": [
    {
     "data": {
      "text/plain": [
       "array([1, 3])"
      ]
     },
     "execution_count": 63,
     "metadata": {},
     "output_type": "execute_result"
    }
   ],
   "source": [
    "A[:,0]"
   ]
  },
  {
   "cell_type": "code",
   "execution_count": 67,
   "metadata": {},
   "outputs": [
    {
     "data": {
      "text/plain": [
       "array([2, 4])"
      ]
     },
     "execution_count": 67,
     "metadata": {},
     "output_type": "execute_result"
    }
   ],
   "source": [
    "A[:,1]"
   ]
  },
  {
   "cell_type": "code",
   "execution_count": 68,
   "metadata": {},
   "outputs": [
    {
     "data": {
      "text/plain": [
       "array([[ 2.71828183,  7.3890561 ],\n",
       "       [20.08553692, 54.59815003]])"
      ]
     },
     "execution_count": 68,
     "metadata": {},
     "output_type": "execute_result"
    }
   ],
   "source": [
    "np.exp(A)"
   ]
  },
  {
   "cell_type": "code",
   "execution_count": 69,
   "metadata": {},
   "outputs": [
    {
     "data": {
      "text/plain": [
       "array([[ 2.71828183,  7.3890561 ],\n",
       "       [20.08553692, 54.59815003]])"
      ]
     },
     "execution_count": 69,
     "metadata": {},
     "output_type": "execute_result"
    }
   ],
   "source": [
    "np.exp(L)"
   ]
  },
  {
   "cell_type": "markdown",
   "metadata": {},
   "source": [
    "## Matrix operation "
   ]
  },
  {
   "cell_type": "code",
   "execution_count": 70,
   "metadata": {},
   "outputs": [
    {
     "data": {
      "text/plain": [
       "array([[1, 2, 3],\n",
       "       [4, 5, 6]])"
      ]
     },
     "execution_count": 70,
     "metadata": {},
     "output_type": "execute_result"
    }
   ],
   "source": [
    "B=np.array([[1,2,3],[4,5,6]])\n",
    "B"
   ]
  },
  {
   "cell_type": "code",
   "execution_count": 71,
   "metadata": {},
   "outputs": [
    {
     "data": {
      "text/plain": [
       "array([[ 9, 12, 15],\n",
       "       [19, 26, 33]])"
      ]
     },
     "execution_count": 71,
     "metadata": {},
     "output_type": "execute_result"
    }
   ],
   "source": [
    "A.dot(B)"
   ]
  },
  {
   "cell_type": "code",
   "execution_count": 72,
   "metadata": {},
   "outputs": [
    {
     "ename": "ValueError",
     "evalue": "shapes (2,2) and (3,2) not aligned: 2 (dim 1) != 3 (dim 0)",
     "output_type": "error",
     "traceback": [
      "\u001b[1;31m---------------------------------------------------------------------------\u001b[0m",
      "\u001b[1;31mValueError\u001b[0m                                Traceback (most recent call last)",
      "\u001b[1;32m<ipython-input-72-80d79729e8e6>\u001b[0m in \u001b[0;36m<module>\u001b[1;34m()\u001b[0m\n\u001b[1;32m----> 1\u001b[1;33m \u001b[0mA\u001b[0m\u001b[1;33m.\u001b[0m\u001b[0mdot\u001b[0m\u001b[1;33m(\u001b[0m\u001b[0mB\u001b[0m\u001b[1;33m.\u001b[0m\u001b[0mT\u001b[0m\u001b[1;33m)\u001b[0m\u001b[1;33m\u001b[0m\u001b[0m\n\u001b[0m",
      "\u001b[1;31mValueError\u001b[0m: shapes (2,2) and (3,2) not aligned: 2 (dim 1) != 3 (dim 0)"
     ]
    }
   ],
   "source": [
    "A.dot(B.T)"
   ]
  },
  {
   "cell_type": "code",
   "execution_count": 73,
   "metadata": {},
   "outputs": [
    {
     "data": {
      "text/plain": [
       "-2.0000000000000004"
      ]
     },
     "execution_count": 73,
     "metadata": {},
     "output_type": "execute_result"
    }
   ],
   "source": [
    "np.linalg.det(A)"
   ]
  },
  {
   "cell_type": "code",
   "execution_count": 74,
   "metadata": {},
   "outputs": [
    {
     "data": {
      "text/plain": [
       "array([[-2. ,  1. ],\n",
       "       [ 1.5, -0.5]])"
      ]
     },
     "execution_count": 74,
     "metadata": {},
     "output_type": "execute_result"
    }
   ],
   "source": [
    "np.linalg.inv(A)"
   ]
  },
  {
   "cell_type": "code",
   "execution_count": 76,
   "metadata": {},
   "outputs": [
    {
     "data": {
      "text/plain": [
       "array([[1.00000000e+00, 1.11022302e-16],\n",
       "       [0.00000000e+00, 1.00000000e+00]])"
      ]
     },
     "execution_count": 76,
     "metadata": {},
     "output_type": "execute_result"
    }
   ],
   "source": [
    "#A* A inverse should give identity\n",
    "\n",
    "A.dot(np.linalg.inv(A))"
   ]
  },
  {
   "cell_type": "code",
   "execution_count": 78,
   "metadata": {},
   "outputs": [
    {
     "data": {
      "text/plain": [
       "array([[1.0000000e+00, 4.4408921e-16],\n",
       "       [0.0000000e+00, 1.0000000e+00]])"
      ]
     },
     "execution_count": 78,
     "metadata": {},
     "output_type": "execute_result"
    }
   ],
   "source": [
    "np.linalg.inv(A).dot(A)# A is inaccurate a bit so you will not getting the exact zero, but close to zero"
   ]
  },
  {
   "cell_type": "code",
   "execution_count": 79,
   "metadata": {},
   "outputs": [
    {
     "data": {
      "text/plain": [
       "5"
      ]
     },
     "execution_count": 79,
     "metadata": {},
     "output_type": "execute_result"
    }
   ],
   "source": [
    "np.trace(A)"
   ]
  },
  {
   "cell_type": "code",
   "execution_count": 80,
   "metadata": {},
   "outputs": [
    {
     "data": {
      "text/plain": [
       "array([1, 4])"
      ]
     },
     "execution_count": 80,
     "metadata": {},
     "output_type": "execute_result"
    }
   ],
   "source": [
    "np.diag(A)"
   ]
  },
  {
   "cell_type": "code",
   "execution_count": 81,
   "metadata": {},
   "outputs": [
    {
     "data": {
      "text/plain": [
       "array([[1, 0],\n",
       "       [0, 4]])"
      ]
     },
     "execution_count": 81,
     "metadata": {},
     "output_type": "execute_result"
    }
   ],
   "source": [
    "np.diag([1,4])"
   ]
  },
  {
   "cell_type": "markdown",
   "metadata": {},
   "source": [
    "## Eigen values & Eigen Vectors "
   ]
  },
  {
   "cell_type": "code",
   "execution_count": 82,
   "metadata": {},
   "outputs": [
    {
     "data": {
      "text/plain": [
       "(array([-0.37228132,  5.37228132]), array([[-0.82456484, -0.41597356],\n",
       "        [ 0.56576746, -0.90937671]]))"
      ]
     },
     "execution_count": 82,
     "metadata": {},
     "output_type": "execute_result"
    }
   ],
   "source": [
    "np.linalg.eig(A)"
   ]
  },
  {
   "cell_type": "code",
   "execution_count": 86,
   "metadata": {},
   "outputs": [],
   "source": [
    "lam, V=np.linalg.eig(A)"
   ]
  },
  {
   "cell_type": "code",
   "execution_count": 88,
   "metadata": {},
   "outputs": [
    {
     "data": {
      "text/plain": [
       "array([ True, False])"
      ]
     },
     "execution_count": 88,
     "metadata": {},
     "output_type": "execute_result"
    }
   ],
   "source": [
    "V[:,0]*lam[0]==A@V[:,0]"
   ]
  },
  {
   "cell_type": "code",
   "execution_count": 89,
   "metadata": {},
   "outputs": [
    {
     "data": {
      "text/plain": [
       "(array([ 0.30697009, -0.21062466]), array([ 0.30697009, -0.21062466]))"
      ]
     },
     "execution_count": 89,
     "metadata": {},
     "output_type": "execute_result"
    }
   ],
   "source": [
    "V[:,0]*lam[0], A@V[:,0]"
   ]
  },
  {
   "cell_type": "code",
   "execution_count": 92,
   "metadata": {},
   "outputs": [
    {
     "data": {
      "text/plain": [
       "True"
      ]
     },
     "execution_count": 92,
     "metadata": {},
     "output_type": "execute_result"
    }
   ],
   "source": [
    "np.allclose(V[:,0]*lam[0],A @ V[:,0])"
   ]
  },
  {
   "cell_type": "code",
   "execution_count": 96,
   "metadata": {},
   "outputs": [
    {
     "data": {
      "text/plain": [
       "((2, 2), (2,), (2, 2))"
      ]
     },
     "execution_count": 96,
     "metadata": {},
     "output_type": "execute_result"
    }
   ],
   "source": [
    "V.shape,lam.shape,A.shape"
   ]
  },
  {
   "cell_type": "code",
   "execution_count": 97,
   "metadata": {},
   "outputs": [
    {
     "data": {
      "text/plain": [
       "(array([[-0.82456484, -0.41597356],\n",
       "        [ 0.56576746, -0.90937671]]),\n",
       " array([-0.37228132,  5.37228132]),\n",
       " array([[1, 2],\n",
       "        [3, 4]]))"
      ]
     },
     "execution_count": 97,
     "metadata": {},
     "output_type": "execute_result"
    }
   ],
   "source": [
    "V,lam,A"
   ]
  },
  {
   "cell_type": "code",
   "execution_count": 101,
   "metadata": {},
   "outputs": [
    {
     "data": {
      "text/plain": [
       "True"
      ]
     },
     "execution_count": 101,
     "metadata": {},
     "output_type": "execute_result"
    }
   ],
   "source": [
    "np.allclose(V@np.diag(lam),A@V)"
   ]
  },
  {
   "cell_type": "markdown",
   "metadata": {},
   "source": [
    "## Liner Systems"
   ]
  },
  {
   "cell_type": "markdown",
   "metadata": {},
   "source": [
    "The admission fee at a small fair is  '$1.50'     for children  and      '$4.00' for adults. on a certain day, 2200 people enter the fair, and    $5500 is collected. How many children and how many adults attended?"
   ]
  },
  {
   "cell_type": "markdown",
   "metadata": {},
   "source": [
    "2 equations * 2 unknows\n",
    "\n",
    "This can be posed as \n",
    "\n",
    "\n",
    "x1+x2 = 2200\n",
    "\n",
    "1.5x1+4X2=5500"
   ]
  },
  {
   "cell_type": "markdown",
   "metadata": {},
   "source": [
    "x=(x1,x2) A=((1,1)(1.5,4)) , b=(2200,5500)\n",
    "\n",
    "\n",
    "Ax=b, x=A-1x"
   ]
  },
  {
   "cell_type": "markdown",
   "metadata": {},
   "source": [
    "## don't do that literally "
   ]
  },
  {
   "cell_type": "markdown",
   "metadata": {},
   "source": [
    "1. The inverse is slower and less accurate \n",
    "2. There are better algorithms to slove liner systems. "
   ]
  },
  {
   "cell_type": "markdown",
   "metadata": {},
   "source": [
    "x1=np.linalg.solve(A,b) #yes\n",
    "\n",
    "\n",
    "x2=np.linalg.inv(A).dot(b) #no "
   ]
  },
  {
   "cell_type": "markdown",
   "metadata": {},
   "source": [
    "linalg.solve # will be more accurate and fast"
   ]
  },
  {
   "cell_type": "code",
   "execution_count": 108,
   "metadata": {},
   "outputs": [],
   "source": [
    "A=np.array([[1,1],[1.5,4]])\n",
    "b=np.array([2200,5050])"
   ]
  },
  {
   "cell_type": "code",
   "execution_count": 111,
   "metadata": {},
   "outputs": [
    {
     "data": {
      "text/plain": [
       "array([1500.,  700.])"
      ]
     },
     "execution_count": 111,
     "metadata": {},
     "output_type": "execute_result"
    }
   ],
   "source": [
    "np.linalg.solve(A,b)# you need to go for solve function"
   ]
  },
  {
   "cell_type": "code",
   "execution_count": 110,
   "metadata": {},
   "outputs": [
    {
     "data": {
      "text/plain": [
       "array([1500.,  700.])"
      ]
     },
     "execution_count": 110,
     "metadata": {},
     "output_type": "execute_result"
    }
   ],
   "source": [
    "np.linalg.inv(A).dot(b)# this is slower"
   ]
  },
  {
   "cell_type": "markdown",
   "metadata": {},
   "source": [
    "## Generate Data"
   ]
  },
  {
   "cell_type": "code",
   "execution_count": 112,
   "metadata": {},
   "outputs": [
    {
     "data": {
      "text/plain": [
       "array([[0., 0., 0.],\n",
       "       [0., 0., 0.]])"
      ]
     },
     "execution_count": 112,
     "metadata": {},
     "output_type": "execute_result"
    }
   ],
   "source": [
    "np.zeros((2,3))"
   ]
  },
  {
   "cell_type": "code",
   "execution_count": 113,
   "metadata": {},
   "outputs": [
    {
     "data": {
      "text/plain": [
       "array([[1., 1., 1.],\n",
       "       [1., 1., 1.]])"
      ]
     },
     "execution_count": 113,
     "metadata": {},
     "output_type": "execute_result"
    }
   ],
   "source": [
    "np.ones((2,3))"
   ]
  },
  {
   "cell_type": "code",
   "execution_count": 115,
   "metadata": {},
   "outputs": [
    {
     "data": {
      "text/plain": [
       "array([[10., 10.],\n",
       "       [10., 10.]])"
      ]
     },
     "execution_count": 115,
     "metadata": {},
     "output_type": "execute_result"
    }
   ],
   "source": [
    "10*np.ones((2,2))"
   ]
  },
  {
   "cell_type": "code",
   "execution_count": 116,
   "metadata": {},
   "outputs": [
    {
     "data": {
      "text/plain": [
       "array([[1., 0., 0.],\n",
       "       [0., 1., 0.],\n",
       "       [0., 0., 1.]])"
      ]
     },
     "execution_count": 116,
     "metadata": {},
     "output_type": "execute_result"
    }
   ],
   "source": [
    "np.eye(3)"
   ]
  },
  {
   "cell_type": "code",
   "execution_count": 124,
   "metadata": {},
   "outputs": [
    {
     "data": {
      "text/plain": [
       "array([[0.73216602, 0.67395312, 0.21379234],\n",
       "       [0.70299976, 0.12779555, 0.14790792]])"
      ]
     },
     "execution_count": 124,
     "metadata": {},
     "output_type": "execute_result"
    }
   ],
   "source": [
    "np.random.random((2,3))"
   ]
  },
  {
   "cell_type": "code",
   "execution_count": 131,
   "metadata": {},
   "outputs": [
    {
     "data": {
      "text/plain": [
       "array([[0.06578808, 0.25828329],\n",
       "       [0.03963143, 0.91539489],\n",
       "       [0.8671334 , 0.06847458],\n",
       "       [0.4300427 , 0.3129784 ],\n",
       "       [0.30840151, 0.36950463],\n",
       "       [0.38622839, 0.82654725],\n",
       "       [0.64099893, 0.66457948],\n",
       "       [0.93440019, 0.79058687],\n",
       "       [0.92579264, 0.79070263],\n",
       "       [0.64894758, 0.43199373]])"
      ]
     },
     "execution_count": 131,
     "metadata": {},
     "output_type": "execute_result"
    }
   ],
   "source": [
    "np.random.rand(10,2)"
   ]
  },
  {
   "cell_type": "code",
   "execution_count": 144,
   "metadata": {},
   "outputs": [
    {
     "data": {
      "text/plain": [
       "-0.3769339604344242"
      ]
     },
     "execution_count": 144,
     "metadata": {},
     "output_type": "execute_result"
    }
   ],
   "source": [
    "#randn gives Return a sample (or samples) from the \"standard normal\" distribution.\n",
    "r=np.random.randn(10)\n",
    "r.mean()"
   ]
  },
  {
   "cell_type": "code",
   "execution_count": 145,
   "metadata": {},
   "outputs": [
    {
     "data": {
      "text/plain": [
       "0.0011956925292743823"
      ]
     },
     "execution_count": 145,
     "metadata": {},
     "output_type": "execute_result"
    }
   ],
   "source": [
    "np.random.randn(10).mean()"
   ]
  },
  {
   "cell_type": "code",
   "execution_count": 146,
   "metadata": {},
   "outputs": [],
   "source": [
    "R=np.random.randn(1000,3)"
   ]
  },
  {
   "cell_type": "code",
   "execution_count": 147,
   "metadata": {},
   "outputs": [
    {
     "data": {
      "text/plain": [
       "array([-0.03449739,  0.05222461, -0.02496412])"
      ]
     },
     "execution_count": 147,
     "metadata": {},
     "output_type": "execute_result"
    }
   ],
   "source": [
    "R.mean(axis=0)"
   ]
  },
  {
   "cell_type": "code",
   "execution_count": 148,
   "metadata": {},
   "outputs": [
    {
     "data": {
      "text/plain": [
       "array([ 4.93280578e-01, -3.52502723e-01,  8.20319498e-02, -5.42172148e-01,\n",
       "       -4.67099713e-01, -4.25133826e-01,  3.23639554e-01, -1.80691602e-02,\n",
       "       -9.81686519e-02,  7.43503687e-01,  2.02068297e-01, -4.68681149e-01,\n",
       "       -2.96750927e-01,  1.12518094e-02, -4.79019688e-01,  1.75905126e+00,\n",
       "       -3.75933222e-01,  2.40845572e-01,  3.17013089e-01,  4.79284483e-01,\n",
       "        5.17347427e-02, -3.49820883e-01,  4.61313060e-01, -1.75684008e-01,\n",
       "       -5.00236829e-01,  6.20517710e-02,  6.23890851e-02, -8.69804999e-01,\n",
       "        7.38774809e-01,  4.79579339e-01, -7.89458358e-01, -2.52412499e-01,\n",
       "        7.62201144e-02,  8.58617623e-01, -8.86150337e-02,  3.45346005e-01,\n",
       "       -8.11264331e-03,  6.36963630e-01, -3.79356897e-01, -1.33900902e-01,\n",
       "        5.24321505e-01, -1.61620955e+00,  4.74606804e-01,  1.15131983e+00,\n",
       "       -1.03977901e+00,  3.06580977e-01, -3.85076478e-01,  3.23445093e-01,\n",
       "        4.10391096e-01, -5.26381680e-01,  3.47490896e-02, -6.01594989e-01,\n",
       "       -2.98527191e-01, -7.84957855e-01, -1.32168041e-01,  3.10820129e-01,\n",
       "       -6.11619320e-01, -1.28029900e-01,  4.41001074e-01, -1.53727245e-01,\n",
       "        1.49016932e+00, -3.09188561e-01,  3.04360952e-01, -4.06316231e-01,\n",
       "       -1.01662183e+00, -5.33648945e-01,  2.98130248e-01,  3.78465929e-01,\n",
       "        5.19948572e-02, -4.69752192e-01, -2.90047873e-01,  3.10893922e-01,\n",
       "        4.64945815e-01, -2.51324661e-01, -6.98772819e-01, -3.05585467e-01,\n",
       "       -3.70011234e-01, -8.96160715e-01,  1.26609080e-01,  9.94762118e-01,\n",
       "        1.73985967e-01,  2.58450871e-01, -1.22194426e+00,  7.24574873e-01,\n",
       "        3.94607508e-01,  4.56559116e-01,  8.67680212e-01, -2.67162216e-02,\n",
       "        2.02383750e-01, -3.12308225e-01,  3.21357311e-01,  5.51200981e-01,\n",
       "       -1.32967185e+00, -7.17742350e-01,  7.27616336e-01,  1.02103077e-01,\n",
       "        2.27200996e-01, -1.60442425e-01,  1.69618909e-01,  4.68440867e-01,\n",
       "       -1.78594557e-02,  5.69449357e-01,  1.49420179e+00, -7.73679982e-01,\n",
       "        1.02661446e+00,  5.12176705e-01,  6.14310917e-01, -6.60552037e-01,\n",
       "        1.90899096e-01, -3.65277648e-01,  1.88117561e-01,  7.43867361e-02,\n",
       "        5.74339830e-02, -4.44544525e-01,  4.75351625e-01,  1.63322640e-01,\n",
       "        5.47628614e-01, -2.82799461e-01,  5.92580259e-01,  4.82102754e-01,\n",
       "        1.47185768e-01,  3.00732453e-01,  5.01591726e-01,  9.26850436e-01,\n",
       "        3.39719101e-01, -8.80674602e-01, -7.64171263e-01, -8.17422941e-01,\n",
       "       -2.39385217e-01,  8.08655122e-01, -1.88160436e-01,  8.44857621e-01,\n",
       "        1.37190922e-02,  4.89787513e-01,  3.60623361e-01,  1.79542074e-01,\n",
       "       -4.86691347e-01,  4.92005056e-01, -1.26669015e-01,  2.01886286e-01,\n",
       "       -1.13293891e-01,  3.97558738e-01,  3.08285216e-01,  4.06965429e-01,\n",
       "        3.23674957e-01,  4.50142793e-01, -2.47336570e-01,  1.01911861e+00,\n",
       "       -2.07229923e-01, -6.73541394e-01, -2.42841703e-01,  1.67431045e+00,\n",
       "        2.81398893e-01, -2.48558289e-01, -5.32351258e-01,  1.25777141e-01,\n",
       "        4.57008747e-01,  5.79331556e-02, -2.17124054e-01, -1.22470130e-01,\n",
       "       -4.96487405e-01,  1.41856941e-01, -2.58413612e-01,  1.70536401e-01,\n",
       "        3.03845962e-02, -3.56979080e-01,  2.40194306e-01,  1.71600656e-01,\n",
       "       -1.15961393e+00,  8.22186504e-02, -1.00383304e+00, -1.42359550e-01,\n",
       "       -5.45478575e-01,  2.58699263e-01,  9.39761990e-02,  5.23683217e-01,\n",
       "       -1.48551589e-01, -5.58141220e-01,  1.32377219e+00, -5.83322988e-01,\n",
       "       -3.46132783e-01,  1.01718972e+00,  1.24691311e-02,  2.82323013e-01,\n",
       "        4.75188625e-02,  6.29676622e-01,  2.71857182e-01,  1.76713172e-01,\n",
       "        4.47749385e-01, -6.24563801e-01, -9.07160919e-01, -3.37427484e-01,\n",
       "        4.77764023e-01, -4.13602404e-01,  1.14195311e-01,  7.51427721e-01,\n",
       "       -2.09860939e-01,  2.97712526e-01, -3.89763435e-01,  1.06616610e-01,\n",
       "        3.84952924e-01, -3.70156402e-01, -3.18645751e-02,  4.86612316e-01,\n",
       "        1.11195251e+00, -5.44884926e-01, -7.65781826e-01,  1.14644927e+00,\n",
       "        5.52281901e-01,  2.61505710e-01, -6.63805835e-01, -5.71239357e-02,\n",
       "       -4.99766040e-02,  1.63407182e-01,  7.74306228e-01,  8.37869811e-02,\n",
       "        4.40852757e-01,  2.01375331e-01, -8.57463913e-01, -1.00988241e+00,\n",
       "       -3.98725592e-01,  6.84397601e-01,  5.66211575e-01,  4.32694661e-01,\n",
       "        3.86189195e-01,  5.00499127e-01,  5.21010723e-03, -3.77572858e-01,\n",
       "       -9.33957001e-01,  9.84669208e-02,  3.34919671e-01,  7.02299409e-01,\n",
       "        3.49837089e-01, -9.27694872e-02, -3.00150588e-01, -2.76146769e-01,\n",
       "       -3.07949424e-01, -2.96423815e-01, -5.47640637e-01,  4.54974983e-02,\n",
       "        5.83059243e-01,  6.20908395e-01,  5.71432014e-01,  5.88538255e-01,\n",
       "        8.36997498e-02, -9.79842591e-01,  8.80574682e-02,  5.40268490e-01,\n",
       "        2.15242850e-01, -4.45111763e-01,  1.68338684e-01,  3.85616215e-01,\n",
       "        9.24985591e-01, -1.02442043e+00, -3.78821394e-01,  7.79641824e-02,\n",
       "       -6.28941722e-01, -9.07502980e-01, -9.80863536e-01, -6.51932722e-01,\n",
       "        5.14502175e-01, -1.87418096e-01,  6.82901957e-01, -3.64544798e-02,\n",
       "       -1.15861831e+00,  6.28022860e-01,  5.18695698e-01,  1.08424467e+00,\n",
       "        1.60354701e+00,  6.61599150e-01, -6.96608140e-01, -9.66326734e-02,\n",
       "       -4.69719637e-01,  1.18651112e-01,  2.15448593e-01, -9.03419678e-01,\n",
       "        1.16205953e+00,  3.33496475e-01, -4.65003417e-01, -9.01376116e-01,\n",
       "       -5.43652627e-02,  7.49609716e-01, -6.70907361e-01, -4.64978941e-02,\n",
       "       -4.01046194e-01,  1.48089126e-01,  5.29536442e-01,  6.19678363e-01,\n",
       "       -2.16482050e-01,  4.54333374e-01, -3.07557674e-02, -2.03474088e-01,\n",
       "       -3.64864520e-01,  1.47436149e+00,  6.96155496e-02, -2.63986718e-01,\n",
       "        3.78644339e-02,  3.76350851e-01, -1.33056109e-01, -6.70356702e-01,\n",
       "        4.68252105e-01,  2.95834671e-01, -1.21661813e-01,  4.58694439e-01,\n",
       "       -1.35858510e-01,  9.23947920e-01,  8.72555950e-01, -7.25529407e-02,\n",
       "       -8.04499453e-01, -4.02566268e-01, -6.02761096e-01,  1.34561780e-01,\n",
       "        1.05315340e+00, -6.99937444e-01,  6.12323308e-01, -4.88379637e-01,\n",
       "        2.94748469e-01,  6.68680044e-01,  3.27832291e-01,  4.03403290e-01,\n",
       "       -1.15764838e-01, -8.24677340e-01,  2.49607445e-01,  2.31593119e-01,\n",
       "       -4.01517609e-01,  7.16150837e-01, -1.28863252e-01,  9.33473384e-01,\n",
       "        7.41865078e-01,  3.43428132e-01,  8.64826059e-02,  8.22080109e-02,\n",
       "       -1.71225963e-01,  5.82843712e-01, -6.41833790e-01,  4.26382173e-01,\n",
       "       -9.08592755e-01, -7.15886362e-01, -9.14637180e-02, -4.53226889e-01,\n",
       "       -4.35368561e-01,  9.48005629e-02, -2.84779875e-01,  1.40156571e-01,\n",
       "       -1.04980420e+00,  1.43639853e-01, -2.46354200e-01,  4.90637812e-01,\n",
       "        4.89288593e-01, -1.76464868e-01, -1.28524425e-01,  1.98970402e-01,\n",
       "        7.71877725e-01, -7.23568751e-01,  2.76574828e-01, -5.83930097e-01,\n",
       "        1.67667477e-01,  6.26646320e-01, -4.34086249e-02, -8.29390878e-01,\n",
       "        3.59946873e-01, -3.58585232e-01, -2.58953068e-01, -8.29366405e-01,\n",
       "       -9.85500337e-02, -4.82379883e-01,  4.02866262e-01, -7.90558379e-01,\n",
       "        1.28241932e+00,  9.09539675e-02, -7.90954442e-01, -3.73387165e-01,\n",
       "       -4.20433006e-01,  5.65540353e-01,  6.47059759e-01,  3.99717686e-02,\n",
       "        5.41167671e-01,  4.91787855e-01, -4.53364847e-01,  4.06842224e-01,\n",
       "       -1.02840841e-02,  2.24465934e-02, -3.55734087e-03,  2.88630759e-01,\n",
       "        5.42725881e-01, -2.55803087e-01, -7.94760466e-01, -6.51817674e-01,\n",
       "        3.01581184e-01, -6.19318220e-01, -4.24935682e-01,  9.27872121e-01,\n",
       "       -4.74839534e-01,  7.29408154e-01, -4.18746680e-01,  9.60774296e-02,\n",
       "       -1.42127666e+00, -6.31394570e-01, -1.30425138e-01,  4.91202141e-02,\n",
       "        5.03695451e-01, -5.79566207e-01, -5.39535598e-02,  6.31019858e-01,\n",
       "       -1.45053735e-01, -5.33538589e-01,  1.05353789e-01, -1.45108356e-01,\n",
       "        7.18528184e-01, -1.98451250e-01, -5.63799825e-01,  8.48687680e-01,\n",
       "        1.00783320e-01, -5.68499764e-01, -1.62986077e-01,  1.93484757e-02,\n",
       "        1.30116021e-01, -7.31014700e-01,  1.39026270e-01, -4.02096392e-02,\n",
       "        1.55540302e-01,  1.03656821e-01, -9.36254966e-01, -8.55070340e-03,\n",
       "        8.18355256e-01,  3.81712507e-01,  1.51291837e-01,  8.89299124e-01,\n",
       "        5.07051068e-01, -8.30743948e-01, -1.14117217e-01, -1.02859890e+00,\n",
       "        9.93897352e-01, -7.67243638e-01,  5.84677196e-03, -2.43586791e-01,\n",
       "        4.78050480e-01,  1.84581217e-01,  1.04791071e-01, -1.08747364e+00,\n",
       "       -9.75109756e-01, -2.36090082e-01, -4.23152403e-01, -7.77674722e-02,\n",
       "        3.61229042e-01, -9.01746868e-02, -1.61490643e+00,  5.86456858e-01,\n",
       "        5.16640262e-01, -9.57038191e-01,  2.89748666e-01,  6.07646332e-01,\n",
       "        1.05988140e-01, -9.42691844e-01, -4.93520862e-01,  4.03831346e-03,\n",
       "       -1.24506306e+00, -3.93326001e-01, -1.08219566e+00, -5.13227998e-01,\n",
       "       -4.68796817e-01, -7.67104615e-01, -4.98193271e-01, -3.05736377e-01,\n",
       "        6.28585086e-02,  2.64164266e-01,  4.36661808e-01, -5.47502097e-01,\n",
       "       -1.50139780e-01, -2.44787328e-01,  5.89795180e-01, -5.68472580e-01,\n",
       "        7.55170930e-01,  2.76303927e-01,  9.08300822e-01,  7.29108894e-02,\n",
       "        5.81485233e-01, -6.60085985e-01,  2.81598720e-01, -3.40721971e-01,\n",
       "       -6.45934101e-01, -3.80094341e-01, -4.80853273e-01,  7.94537329e-01,\n",
       "        1.64237027e-01, -3.03811518e-01, -7.15161878e-01, -7.51744809e-01,\n",
       "       -8.62255921e-01,  4.57778011e-01,  4.29533751e-01, -1.19936276e+00,\n",
       "        6.79393555e-01,  2.11955625e-01, -1.09806869e-02, -2.40870036e-01,\n",
       "       -6.35212723e-01,  1.64101116e-02,  3.58913246e-01,  8.94571172e-01,\n",
       "        4.45414619e-01, -9.49828572e-01, -1.45525457e-01,  5.19287797e-01,\n",
       "       -4.73273200e-01, -4.16549887e-01,  1.22085621e+00, -4.32859601e-01,\n",
       "        4.38125671e-01, -6.94469480e-01, -3.95539275e-01,  6.33215622e-01,\n",
       "       -2.91797953e-01,  3.41050912e-01, -2.78105012e-01,  2.72482451e-01,\n",
       "        3.08751060e-01, -3.99358142e-01,  2.68181814e-01,  5.94289312e-01,\n",
       "       -4.32710049e-01,  1.01410536e+00,  1.50979038e-01, -6.88171784e-01,\n",
       "       -7.48276844e-01,  2.51035829e-01, -1.71285383e-02,  1.15772985e-01,\n",
       "        1.38216755e-01,  3.47635200e-01, -3.45601236e-01, -9.06317590e-01,\n",
       "        3.63563478e-01, -4.63193149e-02,  1.34602900e-03,  8.48394092e-02,\n",
       "        1.46017005e-01,  2.18781464e-01,  6.58913840e-01, -3.14206845e-01,\n",
       "       -9.14869469e-02,  9.25704714e-02, -6.83561853e-01,  7.53555482e-02,\n",
       "        1.53194237e-01,  3.54834203e-03,  6.62246162e-02, -9.46524294e-01,\n",
       "       -4.34133879e-01, -1.28053210e+00, -5.04889243e-01,  8.61360843e-01,\n",
       "       -9.53824506e-01,  6.57215968e-01,  4.58048996e-01,  4.76040637e-01,\n",
       "        3.82035616e-01,  9.24924775e-01,  6.94671005e-02, -5.72528492e-01,\n",
       "       -4.48071795e-01,  1.15618190e-01,  4.33929852e-01, -7.49438805e-01,\n",
       "        9.37222290e-02, -7.78768035e-01, -3.99547889e-01, -6.38872869e-01,\n",
       "       -4.65179033e-01, -5.26609042e-01,  3.11631931e-01, -6.40647258e-02,\n",
       "       -6.37054874e-01, -2.75352781e-01, -2.76967764e-01,  1.87943723e+00,\n",
       "       -6.55921250e-01, -1.63082628e-01,  6.22897281e-01,  2.69829712e-01,\n",
       "        3.17329734e-01,  7.60226930e-01, -6.51756317e-04,  1.85020896e-01,\n",
       "       -1.11360902e-01,  1.49282955e-01, -1.20329931e-01, -6.33042860e-02,\n",
       "       -2.33554844e-01, -5.80124898e-01, -1.74209271e-01, -1.14377969e-02,\n",
       "        9.28254453e-02, -3.01389248e-01,  1.50845625e+00, -3.66484750e-01,\n",
       "        2.71425839e-01,  2.74179322e-02, -5.17671770e-01, -2.10926844e-01,\n",
       "       -3.78771871e-01,  1.10184240e+00,  5.15996105e-02,  3.34967107e-01,\n",
       "        4.17675086e-01, -1.08771501e-01,  2.83650103e-01, -1.90308864e-01,\n",
       "       -2.07808542e-01, -1.86590485e-01, -1.25225043e-02, -7.11773292e-01,\n",
       "        9.14163555e-01, -5.19371949e-01,  2.80693917e-01, -4.23904264e-01,\n",
       "        4.02983431e-01, -4.13918862e-01, -7.43711950e-01, -2.05504132e-02,\n",
       "        1.19322682e+00,  1.03728061e-01,  7.51240272e-01,  2.25927704e-01,\n",
       "       -1.99353368e-01,  6.79480002e-01,  6.35100991e-02, -1.65230845e-01,\n",
       "       -2.71950905e-01, -8.82776691e-01,  8.33818140e-02, -4.81427151e-01,\n",
       "        3.89917392e-01, -1.90396797e-01,  4.23080494e-02,  1.72821677e-01,\n",
       "       -4.55526581e-01, -1.01815772e+00,  4.13028384e-01,  6.05084627e-01,\n",
       "       -1.03259961e-01,  7.64952082e-02,  1.09598387e-01,  1.13524645e-01,\n",
       "       -4.52424875e-01, -1.03510609e+00,  8.11794431e-01, -5.13024911e-01,\n",
       "        2.13361715e-01,  4.95615600e-01, -5.95627333e-01,  4.09830361e-01,\n",
       "        1.06072377e+00,  3.31955588e-01,  2.86894824e-01, -8.45658519e-01,\n",
       "        3.30818199e-01,  7.23089564e-01,  8.41527434e-01,  1.70933801e-01,\n",
       "        1.15336415e-01, -3.78132278e-01, -1.12276442e-01, -6.55727065e-01,\n",
       "        3.53927732e-01,  2.63493378e-01,  4.84386215e-02,  5.85937351e-01,\n",
       "       -2.46593475e-01, -9.47380553e-01, -1.74898840e-01, -7.50822405e-01,\n",
       "        2.72397154e-01,  1.79627414e-01, -1.33484565e-02,  4.43820770e-02,\n",
       "        3.57271473e-04,  4.98013026e-01, -2.69747388e-01,  3.37470793e-01,\n",
       "       -8.10258072e-02,  9.12671894e-02,  2.44015054e-01,  2.06508128e-01,\n",
       "       -6.51778314e-02, -7.05043732e-02,  2.10709959e-01, -4.46086542e-01,\n",
       "        4.95443129e-01,  5.01838937e-01, -6.47415223e-01,  1.22765508e-01,\n",
       "        8.06426458e-01, -2.19457276e-01, -3.18499905e-01, -2.46511626e-01,\n",
       "        8.10524468e-01,  8.48947566e-01, -4.35512530e-01, -8.35257717e-03,\n",
       "       -7.38371569e-01, -1.52210835e-01, -4.16145815e-01, -7.37858822e-01,\n",
       "       -1.18706673e+00, -2.63087060e-01,  2.67658511e-01, -9.49962979e-01,\n",
       "       -2.59108847e-01, -1.56106062e+00,  7.10553667e-01,  3.64352145e-01,\n",
       "       -5.97124339e-01, -2.94278721e-02, -8.01774697e-02, -6.07168046e-01,\n",
       "        1.35146779e+00,  1.93552888e-01,  1.48256106e+00, -6.97888475e-02,\n",
       "        6.19473844e-02, -2.00681089e-01, -3.86273251e-01,  5.63485330e-01,\n",
       "        5.69289191e-01,  5.97133308e-01,  1.68341198e-01,  6.30628472e-01,\n",
       "        2.48982541e-01,  2.24847805e-01,  5.41274778e-01,  1.25524670e+00,\n",
       "       -6.10699710e-01,  2.51527389e-01, -8.61112619e-01, -1.46084801e-01,\n",
       "       -7.41031606e-02, -1.30701131e+00,  4.79789852e-01, -1.95442238e-01,\n",
       "       -6.23069446e-01,  4.28158293e-01, -6.75570269e-02, -3.41893966e-01,\n",
       "        9.00656001e-01,  6.81215606e-02, -1.86130655e-01,  2.39593329e-01,\n",
       "        6.15824123e-02, -3.29705523e-01, -5.36340276e-01, -3.67737005e-01,\n",
       "       -3.44932054e-01,  3.81757594e-01,  4.30179806e-01, -2.33324144e-01,\n",
       "        3.01116143e-01,  2.94082702e-01, -6.83012880e-01, -1.83462404e-01,\n",
       "       -8.50989400e-01, -5.61500962e-01, -8.15705302e-01,  3.64809582e-01,\n",
       "        1.17032734e+00, -8.30116897e-01, -9.65366590e-02,  1.15636535e-01,\n",
       "        1.02056097e+00, -2.25508682e-01,  8.67594625e-02,  3.39544172e-01,\n",
       "       -5.66078200e-01, -4.44660028e-01,  2.23343510e-01, -1.36643852e-01,\n",
       "        1.08479057e+00,  7.91951476e-01, -2.21978460e-01, -6.64789848e-01,\n",
       "        8.43737014e-01, -5.35771195e-01,  7.64366845e-01, -1.16598081e+00,\n",
       "       -1.41874967e+00,  4.28870624e-01,  6.70642728e-02,  1.23224657e-01,\n",
       "       -6.83497040e-01,  3.32112298e-01,  1.58716755e-01,  3.19586450e-01,\n",
       "        2.32505923e-01, -5.30541054e-01, -2.33908958e-01,  3.72408213e-01,\n",
       "       -7.89912490e-01,  7.94695548e-01,  1.82727150e-01, -1.80352967e-01,\n",
       "       -8.38292051e-01, -7.20822365e-01,  2.10277403e-01, -8.94264440e-02,\n",
       "        2.56131101e-01, -8.56789442e-01, -5.01661610e-01,  1.24155269e-01,\n",
       "       -3.66990987e-01, -3.31666389e-01,  1.89205453e-01,  3.40397705e-01,\n",
       "        9.57061127e-01,  1.77299068e-01, -4.98062284e-01, -5.87969774e-01,\n",
       "        9.65686398e-01, -9.60411731e-01,  3.67295461e-01, -8.41305164e-01,\n",
       "       -4.93590195e-01, -1.70393116e-01,  4.86541903e-01,  2.89165510e-01,\n",
       "       -3.89055754e-01,  5.22327655e-01,  6.65218857e-01,  7.51772212e-01,\n",
       "       -2.84394174e-01, -2.24371212e-02,  8.76176145e-01,  9.89213390e-01,\n",
       "        1.36421984e-01, -4.26048998e-01, -1.85351094e-02,  8.02670061e-01,\n",
       "       -6.35815363e-01, -6.25028299e-01,  4.80003350e-01, -1.62223073e-01,\n",
       "        3.67086092e-01,  5.03464438e-01,  1.89295472e-01, -7.60325425e-01,\n",
       "       -1.82411116e-01, -4.25788440e-01, -3.39806330e-01,  2.11583607e-01,\n",
       "       -3.44229912e-01,  1.32583534e-02, -1.44069698e-01,  1.86911163e-01,\n",
       "        2.87001044e-01, -4.37345392e-01,  4.84328552e-01, -7.02946260e-01,\n",
       "        1.62243818e-01,  7.81908822e-01,  7.10526217e-01, -7.18999307e-01,\n",
       "        8.12201312e-02,  1.01990043e-01,  1.66777608e-01, -4.62021217e-01,\n",
       "       -3.85188575e-01, -8.51916554e-02,  4.40606643e-01, -1.14547611e+00,\n",
       "       -4.69497322e-01,  2.84057397e-01,  3.38923492e-01, -4.24813587e-01,\n",
       "        1.28921843e+00, -2.39210821e-01, -4.74827245e-02, -5.22429433e-02,\n",
       "       -4.16102984e-01,  5.22076545e-01, -3.78860339e-01, -4.94229606e-01,\n",
       "        7.40065661e-01, -1.04082791e+00, -5.03836192e-01, -3.93830448e-01,\n",
       "        3.96320298e-01, -3.81429906e-01,  3.46221322e-01,  1.18818316e+00,\n",
       "       -7.96189390e-02,  3.63275058e-01,  8.81838703e-01,  5.06074867e-01,\n",
       "        1.99849766e-01,  1.82633422e-01,  2.75083868e-01, -1.88398547e-01,\n",
       "        3.00007338e-01,  2.82095212e-01, -3.55637448e-01, -5.39989066e-01,\n",
       "       -2.82603618e-01,  3.03519927e-01, -2.13175974e-02, -6.13722766e-01,\n",
       "       -8.20721112e-01,  7.18371841e-01,  6.38012545e-01,  6.37841818e-01,\n",
       "        1.29157189e+00,  7.73958781e-01,  1.65684878e-01, -3.13399829e-01,\n",
       "       -6.32394811e-02, -4.09458268e-01, -2.32247178e-01,  4.24579362e-01,\n",
       "        1.71504894e-01,  8.90655642e-01, -1.08209248e-02,  2.73544889e-01,\n",
       "       -4.98691087e-01, -1.68349223e-01, -1.35923806e-01,  8.71316645e-03,\n",
       "        4.58951407e-01, -8.17705287e-01,  4.75756057e-01, -2.98702224e-01,\n",
       "       -8.32234341e-01,  1.16144895e-01, -8.83765040e-01,  8.78499997e-03,\n",
       "        9.55096604e-01, -4.20809359e-01, -4.26668008e-01,  4.12350914e-01,\n",
       "       -4.27101602e-01, -4.07872860e-01,  1.21334595e+00,  2.25264421e-01,\n",
       "        3.19415842e-01,  2.30250053e-01, -6.54492579e-02,  2.37722695e-01,\n",
       "       -1.47397509e-02,  2.01150218e-01,  7.70777013e-01, -7.28429074e-01,\n",
       "       -1.57892129e-01,  9.35370090e-02,  5.62248135e-02,  1.02579897e-01,\n",
       "        3.14279618e-01, -9.09096528e-02, -9.69436857e-01,  7.52028097e-01,\n",
       "        3.25765781e-01, -7.41245534e-01,  6.07678560e-01,  6.31763306e-02,\n",
       "        5.15252021e-01,  5.24669546e-01,  4.42723863e-01,  7.86082036e-01,\n",
       "        2.56361023e-02, -1.88282746e+00,  3.84233660e-01, -1.94317424e-01,\n",
       "        8.06291566e-02,  2.63369822e-01, -2.02457670e-02, -1.58750857e-02,\n",
       "        1.04253036e-01,  1.13336347e-01, -1.08329707e-01,  6.73292101e-01,\n",
       "       -3.29062955e-01, -5.21756342e-01,  7.57277452e-01, -7.84729774e-01,\n",
       "       -6.97087996e-02, -1.16957893e-01, -1.11073351e+00,  7.52070101e-02,\n",
       "       -7.18590765e-02, -5.64626007e-01, -1.97678377e-01,  2.07113826e-01,\n",
       "       -4.60615680e-01, -7.30957877e-01,  2.12252562e-01, -8.22175238e-01,\n",
       "       -3.90969051e-01,  2.55777700e-01, -2.93306111e-01, -8.51573344e-01,\n",
       "       -1.23830619e+00, -1.53635666e-01, -5.95384096e-01, -9.62775396e-01])"
      ]
     },
     "execution_count": 148,
     "metadata": {},
     "output_type": "execute_result"
    }
   ],
   "source": [
    "R.mean(axis=1)"
   ]
  },
  {
   "cell_type": "code",
   "execution_count": 149,
   "metadata": {},
   "outputs": [
    {
     "data": {
      "text/plain": [
       "(1000,)"
      ]
     },
     "execution_count": 149,
     "metadata": {},
     "output_type": "execute_result"
    }
   ],
   "source": [
    "R.mean(axis=1).shape"
   ]
  },
  {
   "cell_type": "code",
   "execution_count": 150,
   "metadata": {},
   "outputs": [
    {
     "data": {
      "text/plain": [
       "(1000, 1000)"
      ]
     },
     "execution_count": 150,
     "metadata": {},
     "output_type": "execute_result"
    }
   ],
   "source": [
    "np.cov(R).shape"
   ]
  },
  {
   "cell_type": "code",
   "execution_count": 151,
   "metadata": {},
   "outputs": [
    {
     "data": {
      "text/plain": [
       "array([[ 0.96064771, -0.00267718, -0.07176531],\n",
       "       [-0.00267718,  1.00208678, -0.01182504],\n",
       "       [-0.07176531, -0.01182504,  0.99385182]])"
      ]
     },
     "execution_count": 151,
     "metadata": {},
     "output_type": "execute_result"
    }
   ],
   "source": [
    "np.cov(R.T)"
   ]
  },
  {
   "cell_type": "code",
   "execution_count": 152,
   "metadata": {},
   "outputs": [
    {
     "data": {
      "text/plain": [
       "array([[ 0.96064771, -0.00267718, -0.07176531],\n",
       "       [-0.00267718,  1.00208678, -0.01182504],\n",
       "       [-0.07176531, -0.01182504,  0.99385182]])"
      ]
     },
     "execution_count": 152,
     "metadata": {},
     "output_type": "execute_result"
    }
   ],
   "source": [
    "np.cov(R, rowvar=False)"
   ]
  },
  {
   "cell_type": "code",
   "execution_count": 154,
   "metadata": {},
   "outputs": [
    {
     "data": {
      "text/plain": [
       "array([[18, 15,  2],\n",
       "       [ 8, 11, 14],\n",
       "       [15,  3, 12],\n",
       "       [ 8,  1,  4],\n",
       "       [18,  4,  3],\n",
       "       [12, 15, 16],\n",
       "       [ 1,  3, 19],\n",
       "       [ 6, 14,  1],\n",
       "       [ 0, 19, 18],\n",
       "       [ 9,  6, 16]])"
      ]
     },
     "execution_count": 154,
     "metadata": {},
     "output_type": "execute_result"
    }
   ],
   "source": [
    "np.random.randint(0,20,size=(10,3))"
   ]
  },
  {
   "cell_type": "code",
   "execution_count": 157,
   "metadata": {},
   "outputs": [
    {
     "data": {
      "text/plain": [
       "array([[ 4,  3,  9],\n",
       "       [ 8, 10,  6],\n",
       "       [ 2,  5, 13]])"
      ]
     },
     "execution_count": 157,
     "metadata": {},
     "output_type": "execute_result"
    }
   ],
   "source": [
    "np.random.choice(15,size=(3,3),replace=False)"
   ]
  },
  {
   "cell_type": "code",
   "execution_count": null,
   "metadata": {},
   "outputs": [],
   "source": []
  }
 ],
 "metadata": {
  "kernelspec": {
   "display_name": "Python 3",
   "language": "python",
   "name": "python3"
  },
  "language_info": {
   "codemirror_mode": {
    "name": "ipython",
    "version": 3
   },
   "file_extension": ".py",
   "mimetype": "text/x-python",
   "name": "python",
   "nbconvert_exporter": "python",
   "pygments_lexer": "ipython3",
   "version": "3.6.5"
  }
 },
 "nbformat": 4,
 "nbformat_minor": 2
}
